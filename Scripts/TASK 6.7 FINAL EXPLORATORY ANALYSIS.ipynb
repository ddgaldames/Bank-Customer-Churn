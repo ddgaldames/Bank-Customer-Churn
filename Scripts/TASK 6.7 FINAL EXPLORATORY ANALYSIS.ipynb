{
 "cells": [
  {
   "cell_type": "markdown",
   "id": "5168cb19",
   "metadata": {},
   "source": [
    "# TASK 6.7 FINAL EXPLORATORY ANALYSIS"
   ]
  },
  {
   "cell_type": "markdown",
   "id": "2c250d06",
   "metadata": {},
   "source": [
    "**THIS SCRIPT CONTAINS THE FOLLOWING SECTIONS**\n",
    "\n",
    "    1. Import libraries\n",
    "    \n",
    "    2. Import file\n",
    "    \n",
    "    3. Create yes/no columns from the binary variables\n",
    "    \n",
    "    4. Create satisfaction profile variable\n",
    "    \n",
    "    5. Renaming of columns for Tableau\n",
    "         \n",
    "    6. Export the file"
   ]
  },
  {
   "cell_type": "markdown",
   "id": "d0ba9dcb",
   "metadata": {},
   "source": [
    "**1. Import librarires**"
   ]
  },
  {
   "cell_type": "code",
   "execution_count": 1,
   "id": "6b7e8b81",
   "metadata": {},
   "outputs": [],
   "source": [
    "#import libraries\n",
    "import pandas as pd\n",
    "import numpy as np\n",
    "import os"
   ]
  },
  {
   "cell_type": "markdown",
   "id": "d34c1235",
   "metadata": {},
   "source": [
    "**2. Import file**"
   ]
  },
  {
   "cell_type": "code",
   "execution_count": 2,
   "id": "199dd87c",
   "metadata": {},
   "outputs": [],
   "source": [
    "#define path\n",
    "path = r'C:\\Users\\ddgal\\OneDrive\\Desktop\\Career Foundry Tasks\\Data Immersion\\Achievement 6\\Prepared Data'"
   ]
  },
  {
   "cell_type": "code",
   "execution_count": 3,
   "id": "1aaf96a7",
   "metadata": {},
   "outputs": [],
   "source": [
    "df =  pd.read_csv(os.path.join(path, 'cust_churn_records_var.csv'), index_col=0)"
   ]
  },
  {
   "cell_type": "code",
   "execution_count": 4,
   "id": "172b7a8e",
   "metadata": {},
   "outputs": [
    {
     "data": {
      "text/plain": [
       "(10000, 22)"
      ]
     },
     "execution_count": 4,
     "metadata": {},
     "output_type": "execute_result"
    }
   ],
   "source": [
    "#check df\n",
    "df.shape"
   ]
  },
  {
   "cell_type": "code",
   "execution_count": 5,
   "id": "26f0ae6f",
   "metadata": {},
   "outputs": [],
   "source": [
    "#display max colums\n",
    "pd.set_option('display.max_columns', None)"
   ]
  },
  {
   "cell_type": "code",
   "execution_count": 6,
   "id": "ee8141ff",
   "metadata": {},
   "outputs": [
    {
     "data": {
      "text/html": [
       "<div>\n",
       "<style scoped>\n",
       "    .dataframe tbody tr th:only-of-type {\n",
       "        vertical-align: middle;\n",
       "    }\n",
       "\n",
       "    .dataframe tbody tr th {\n",
       "        vertical-align: top;\n",
       "    }\n",
       "\n",
       "    .dataframe thead th {\n",
       "        text-align: right;\n",
       "    }\n",
       "</style>\n",
       "<table border=\"1\" class=\"dataframe\">\n",
       "  <thead>\n",
       "    <tr style=\"text-align: right;\">\n",
       "      <th></th>\n",
       "      <th>Customer_id</th>\n",
       "      <th>Credit_score</th>\n",
       "      <th>Geography</th>\n",
       "      <th>Gender</th>\n",
       "      <th>Age</th>\n",
       "      <th>Tenure</th>\n",
       "      <th>Balance</th>\n",
       "      <th>Number_of_products</th>\n",
       "      <th>Has_credit_card</th>\n",
       "      <th>Is_active_member</th>\n",
       "      <th>Estimated_salary</th>\n",
       "      <th>Exited</th>\n",
       "      <th>Complain</th>\n",
       "      <th>Satisfaction_score</th>\n",
       "      <th>Card_type</th>\n",
       "      <th>Points_earned</th>\n",
       "      <th>Credit_profile</th>\n",
       "      <th>Age_profile</th>\n",
       "      <th>Balance_profile</th>\n",
       "      <th>Tenure_profile</th>\n",
       "      <th>Salary_profile</th>\n",
       "      <th>Points_profile</th>\n",
       "    </tr>\n",
       "    <tr>\n",
       "      <th>RowNumber</th>\n",
       "      <th></th>\n",
       "      <th></th>\n",
       "      <th></th>\n",
       "      <th></th>\n",
       "      <th></th>\n",
       "      <th></th>\n",
       "      <th></th>\n",
       "      <th></th>\n",
       "      <th></th>\n",
       "      <th></th>\n",
       "      <th></th>\n",
       "      <th></th>\n",
       "      <th></th>\n",
       "      <th></th>\n",
       "      <th></th>\n",
       "      <th></th>\n",
       "      <th></th>\n",
       "      <th></th>\n",
       "      <th></th>\n",
       "      <th></th>\n",
       "      <th></th>\n",
       "      <th></th>\n",
       "    </tr>\n",
       "  </thead>\n",
       "  <tbody>\n",
       "    <tr>\n",
       "      <th>1</th>\n",
       "      <td>15634602</td>\n",
       "      <td>619</td>\n",
       "      <td>France</td>\n",
       "      <td>Female</td>\n",
       "      <td>42</td>\n",
       "      <td>2</td>\n",
       "      <td>0.00</td>\n",
       "      <td>1</td>\n",
       "      <td>1</td>\n",
       "      <td>1</td>\n",
       "      <td>101348.88</td>\n",
       "      <td>1</td>\n",
       "      <td>1</td>\n",
       "      <td>2</td>\n",
       "      <td>DIAMOND</td>\n",
       "      <td>464</td>\n",
       "      <td>Fair credit score</td>\n",
       "      <td>Middle aged</td>\n",
       "      <td>No balance</td>\n",
       "      <td>Low Tenure</td>\n",
       "      <td>Middle class</td>\n",
       "      <td>Middle points</td>\n",
       "    </tr>\n",
       "    <tr>\n",
       "      <th>2</th>\n",
       "      <td>15647311</td>\n",
       "      <td>608</td>\n",
       "      <td>Spain</td>\n",
       "      <td>Female</td>\n",
       "      <td>41</td>\n",
       "      <td>1</td>\n",
       "      <td>83807.86</td>\n",
       "      <td>1</td>\n",
       "      <td>0</td>\n",
       "      <td>1</td>\n",
       "      <td>112542.58</td>\n",
       "      <td>0</td>\n",
       "      <td>1</td>\n",
       "      <td>3</td>\n",
       "      <td>DIAMOND</td>\n",
       "      <td>456</td>\n",
       "      <td>Fair credit score</td>\n",
       "      <td>Middle aged</td>\n",
       "      <td>Low balance</td>\n",
       "      <td>Low Tenure</td>\n",
       "      <td>Middle class</td>\n",
       "      <td>Middle points</td>\n",
       "    </tr>\n",
       "    <tr>\n",
       "      <th>3</th>\n",
       "      <td>15619304</td>\n",
       "      <td>502</td>\n",
       "      <td>France</td>\n",
       "      <td>Female</td>\n",
       "      <td>42</td>\n",
       "      <td>8</td>\n",
       "      <td>159660.80</td>\n",
       "      <td>3</td>\n",
       "      <td>1</td>\n",
       "      <td>0</td>\n",
       "      <td>113931.57</td>\n",
       "      <td>1</td>\n",
       "      <td>1</td>\n",
       "      <td>3</td>\n",
       "      <td>DIAMOND</td>\n",
       "      <td>377</td>\n",
       "      <td>Poor credit score</td>\n",
       "      <td>Middle aged</td>\n",
       "      <td>High balance</td>\n",
       "      <td>High Tenure</td>\n",
       "      <td>Middle class</td>\n",
       "      <td>Low points</td>\n",
       "    </tr>\n",
       "    <tr>\n",
       "      <th>4</th>\n",
       "      <td>15701354</td>\n",
       "      <td>699</td>\n",
       "      <td>France</td>\n",
       "      <td>Female</td>\n",
       "      <td>39</td>\n",
       "      <td>1</td>\n",
       "      <td>0.00</td>\n",
       "      <td>2</td>\n",
       "      <td>0</td>\n",
       "      <td>0</td>\n",
       "      <td>93826.63</td>\n",
       "      <td>0</td>\n",
       "      <td>0</td>\n",
       "      <td>5</td>\n",
       "      <td>GOLD</td>\n",
       "      <td>350</td>\n",
       "      <td>Fair credit score</td>\n",
       "      <td>Young adult</td>\n",
       "      <td>No balance</td>\n",
       "      <td>Low Tenure</td>\n",
       "      <td>Middle class</td>\n",
       "      <td>Low points</td>\n",
       "    </tr>\n",
       "    <tr>\n",
       "      <th>5</th>\n",
       "      <td>15737888</td>\n",
       "      <td>850</td>\n",
       "      <td>Spain</td>\n",
       "      <td>Female</td>\n",
       "      <td>43</td>\n",
       "      <td>2</td>\n",
       "      <td>125510.82</td>\n",
       "      <td>1</td>\n",
       "      <td>1</td>\n",
       "      <td>1</td>\n",
       "      <td>79084.10</td>\n",
       "      <td>0</td>\n",
       "      <td>0</td>\n",
       "      <td>5</td>\n",
       "      <td>GOLD</td>\n",
       "      <td>425</td>\n",
       "      <td>Excellent credit score</td>\n",
       "      <td>Middle aged</td>\n",
       "      <td>Medium balance</td>\n",
       "      <td>Low Tenure</td>\n",
       "      <td>Middle class</td>\n",
       "      <td>Middle points</td>\n",
       "    </tr>\n",
       "  </tbody>\n",
       "</table>\n",
       "</div>"
      ],
      "text/plain": [
       "           Customer_id  Credit_score Geography  Gender  Age  Tenure  \\\n",
       "RowNumber                                                             \n",
       "1             15634602           619    France  Female   42       2   \n",
       "2             15647311           608     Spain  Female   41       1   \n",
       "3             15619304           502    France  Female   42       8   \n",
       "4             15701354           699    France  Female   39       1   \n",
       "5             15737888           850     Spain  Female   43       2   \n",
       "\n",
       "             Balance  Number_of_products  Has_credit_card  Is_active_member  \\\n",
       "RowNumber                                                                     \n",
       "1               0.00                   1                1                 1   \n",
       "2           83807.86                   1                0                 1   \n",
       "3          159660.80                   3                1                 0   \n",
       "4               0.00                   2                0                 0   \n",
       "5          125510.82                   1                1                 1   \n",
       "\n",
       "           Estimated_salary  Exited  Complain  Satisfaction_score Card_type  \\\n",
       "RowNumber                                                                     \n",
       "1                 101348.88       1         1                   2   DIAMOND   \n",
       "2                 112542.58       0         1                   3   DIAMOND   \n",
       "3                 113931.57       1         1                   3   DIAMOND   \n",
       "4                  93826.63       0         0                   5      GOLD   \n",
       "5                  79084.10       0         0                   5      GOLD   \n",
       "\n",
       "           Points_earned          Credit_profile  Age_profile Balance_profile  \\\n",
       "RowNumber                                                                       \n",
       "1                    464       Fair credit score  Middle aged      No balance   \n",
       "2                    456       Fair credit score  Middle aged     Low balance   \n",
       "3                    377       Poor credit score  Middle aged    High balance   \n",
       "4                    350       Fair credit score  Young adult      No balance   \n",
       "5                    425  Excellent credit score  Middle aged  Medium balance   \n",
       "\n",
       "          Tenure_profile Salary_profile Points_profile  \n",
       "RowNumber                                               \n",
       "1             Low Tenure   Middle class  Middle points  \n",
       "2             Low Tenure   Middle class  Middle points  \n",
       "3            High Tenure   Middle class     Low points  \n",
       "4             Low Tenure   Middle class     Low points  \n",
       "5             Low Tenure   Middle class  Middle points  "
      ]
     },
     "execution_count": 6,
     "metadata": {},
     "output_type": "execute_result"
    }
   ],
   "source": [
    "#print df first 5 rows\n",
    "df.head()"
   ]
  },
  {
   "cell_type": "markdown",
   "id": "619e1f1b",
   "metadata": {},
   "source": [
    "**3. Create yes/no columns from the binary variables**"
   ]
  },
  {
   "cell_type": "code",
   "execution_count": 7,
   "id": "caf8f2bd",
   "metadata": {},
   "outputs": [],
   "source": [
    "#create a new column that changes values of 'Has_credit_card' to Yes for 1 and No for 0\n",
    "pr_cc = []\n",
    "for cc in df['Has_credit_card']:\n",
    "    if cc == 1:\n",
    "        pr_cc.append('Yes')\n",
    "    else:\n",
    "        pr_cc.append('No')\n",
    "\n",
    "#create new column 'Has credit card?' column from pr_cc\n",
    "df['Does the customer have a credit card?'] = pr_cc"
   ]
  },
  {
   "cell_type": "code",
   "execution_count": 8,
   "id": "e1742ffd",
   "metadata": {},
   "outputs": [
    {
     "data": {
      "text/plain": [
       "Yes    7055\n",
       "No     2945\n",
       "Name: Does the customer have a credit card?, dtype: int64"
      ]
     },
     "execution_count": 8,
     "metadata": {},
     "output_type": "execute_result"
    }
   ],
   "source": [
    "#check value counts of 'Has credit card?'\n",
    "df['Does the customer have a credit card?'].value_counts(dropna=False)"
   ]
  },
  {
   "cell_type": "code",
   "execution_count": 9,
   "id": "2bc7e7a1",
   "metadata": {},
   "outputs": [
    {
     "data": {
      "text/plain": [
       "10000"
      ]
     },
     "execution_count": 9,
     "metadata": {},
     "output_type": "execute_result"
    }
   ],
   "source": [
    "#check\n",
    "7055+2945"
   ]
  },
  {
   "cell_type": "code",
   "execution_count": 10,
   "id": "d3afa6e2",
   "metadata": {},
   "outputs": [],
   "source": [
    "#create a new column that changes values of Is_active_member to Yes for 1 and No for 0\n",
    "pr_am = []\n",
    "for am in df['Is_active_member']:\n",
    "    if am == 1:\n",
    "        pr_am.append('Yes')\n",
    "    else:\n",
    "        pr_am.append('No')\n",
    "\n",
    "#create new column 'Is active member?' column from pr_am\n",
    "df['Is the customer an active member?'] = pr_am"
   ]
  },
  {
   "cell_type": "code",
   "execution_count": 11,
   "id": "20b430b0",
   "metadata": {},
   "outputs": [
    {
     "data": {
      "text/plain": [
       "Yes    5151\n",
       "No     4849\n",
       "Name: Is the customer an active member?, dtype: int64"
      ]
     },
     "execution_count": 11,
     "metadata": {},
     "output_type": "execute_result"
    }
   ],
   "source": [
    "#check value counts of 'Is active member?'\n",
    "df['Is the customer an active member?'].value_counts(dropna=False)"
   ]
  },
  {
   "cell_type": "code",
   "execution_count": 12,
   "id": "e6d5f2ba",
   "metadata": {},
   "outputs": [
    {
     "data": {
      "text/plain": [
       "10000"
      ]
     },
     "execution_count": 12,
     "metadata": {},
     "output_type": "execute_result"
    }
   ],
   "source": [
    "#check\n",
    "5151+4849"
   ]
  },
  {
   "cell_type": "code",
   "execution_count": 13,
   "id": "b0482291",
   "metadata": {},
   "outputs": [],
   "source": [
    "#create a new column that changes values of Exited to Yes for 1 and No for 0\n",
    "pr_ex = []\n",
    "for ex in df['Exited']:\n",
    "    if ex == 1:\n",
    "        pr_ex.append('Yes')\n",
    "    else:\n",
    "        pr_ex.append('No')\n",
    "\n",
    "#create new column 'Has member exited' column from pr_ex\n",
    "df['Has the customer exited?'] = pr_ex"
   ]
  },
  {
   "cell_type": "code",
   "execution_count": 14,
   "id": "a41f65e6",
   "metadata": {},
   "outputs": [
    {
     "data": {
      "text/plain": [
       "No     7962\n",
       "Yes    2038\n",
       "Name: Has the customer exited?, dtype: int64"
      ]
     },
     "execution_count": 14,
     "metadata": {},
     "output_type": "execute_result"
    }
   ],
   "source": [
    "#check value counts of 'Has member exited?'\n",
    "df['Has the customer exited?'].value_counts(dropna=False)"
   ]
  },
  {
   "cell_type": "code",
   "execution_count": 15,
   "id": "5954bd8b",
   "metadata": {},
   "outputs": [
    {
     "data": {
      "text/plain": [
       "10000"
      ]
     },
     "execution_count": 15,
     "metadata": {},
     "output_type": "execute_result"
    }
   ],
   "source": [
    "#check \n",
    "7962+2038"
   ]
  },
  {
   "cell_type": "code",
   "execution_count": 16,
   "id": "08dfa3e7",
   "metadata": {},
   "outputs": [],
   "source": [
    "#create a new column that changes values of Complain to Yes for 1 and No for 0\n",
    "pr_c = []\n",
    "for c in df['Complain']:\n",
    "    if c == 1:\n",
    "        pr_c.append('Yes')\n",
    "    else:\n",
    "        pr_c.append('No')\n",
    "\n",
    "#create new column 'Has member complained' column from pr_c\n",
    "df['Has the customer complained?'] = pr_c"
   ]
  },
  {
   "cell_type": "code",
   "execution_count": 17,
   "id": "8ea0d9d2",
   "metadata": {},
   "outputs": [
    {
     "data": {
      "text/plain": [
       "No     7956\n",
       "Yes    2044\n",
       "Name: Has the customer complained?, dtype: int64"
      ]
     },
     "execution_count": 17,
     "metadata": {},
     "output_type": "execute_result"
    }
   ],
   "source": [
    "#check value counts of 'Has member complained?'\n",
    "df['Has the customer complained?'].value_counts(dropna=False)"
   ]
  },
  {
   "cell_type": "code",
   "execution_count": 18,
   "id": "70df8109",
   "metadata": {},
   "outputs": [
    {
     "data": {
      "text/plain": [
       "10000"
      ]
     },
     "execution_count": 18,
     "metadata": {},
     "output_type": "execute_result"
    }
   ],
   "source": [
    "#check\n",
    "7956+2044"
   ]
  },
  {
   "cell_type": "markdown",
   "id": "02b738f9",
   "metadata": {},
   "source": [
    "**4. Create satisfaction profile variable**"
   ]
  },
  {
   "cell_type": "code",
   "execution_count": 19,
   "id": "90b08866",
   "metadata": {},
   "outputs": [],
   "source": [
    "#create a new grouping column from 'Satisfaction_score'  \n",
    "pr_sat = []\n",
    "for sat in df['Satisfaction_score']:\n",
    "    if sat == 1 & sat <= 2:\n",
    "        pr_sat.append('Not Satisfied')\n",
    "    elif sat == 3:\n",
    "        pr_sat.append('Satisfied')\n",
    "    else:\n",
    "        pr_sat.append('Very satisfied')\n",
    "        \n",
    "#create new column 'Is the customer satisfied?' from pr_sat\n",
    "df['Customer sentiment'] = pr_sat"
   ]
  },
  {
   "cell_type": "code",
   "execution_count": 20,
   "id": "8c10e036",
   "metadata": {},
   "outputs": [
    {
     "data": {
      "text/plain": [
       "Very satisfied    6026\n",
       "Satisfied         2042\n",
       "Not Satisfied     1932\n",
       "Name: Customer sentiment, dtype: int64"
      ]
     },
     "execution_count": 20,
     "metadata": {},
     "output_type": "execute_result"
    }
   ],
   "source": [
    "#check value counts of 'What is the customers sentiment?'\n",
    "df['Customer sentiment'].value_counts(dropna=False)"
   ]
  },
  {
   "cell_type": "code",
   "execution_count": 21,
   "id": "1cb7e269",
   "metadata": {},
   "outputs": [
    {
     "data": {
      "text/plain": [
       "10000"
      ]
     },
     "execution_count": 21,
     "metadata": {},
     "output_type": "execute_result"
    }
   ],
   "source": [
    "#check\n",
    "6026 + 2042 + 1932"
   ]
  },
  {
   "cell_type": "code",
   "execution_count": 22,
   "id": "b6dced1a",
   "metadata": {},
   "outputs": [
    {
     "name": "stdout",
     "output_type": "stream",
     "text": [
      "<class 'pandas.core.frame.DataFrame'>\n",
      "Int64Index: 10000 entries, 1 to 10000\n",
      "Data columns (total 27 columns):\n",
      " #   Column                                 Non-Null Count  Dtype  \n",
      "---  ------                                 --------------  -----  \n",
      " 0   Customer_id                            10000 non-null  int64  \n",
      " 1   Credit_score                           10000 non-null  int64  \n",
      " 2   Geography                              10000 non-null  object \n",
      " 3   Gender                                 10000 non-null  object \n",
      " 4   Age                                    10000 non-null  int64  \n",
      " 5   Tenure                                 10000 non-null  int64  \n",
      " 6   Balance                                10000 non-null  float64\n",
      " 7   Number_of_products                     10000 non-null  int64  \n",
      " 8   Has_credit_card                        10000 non-null  int64  \n",
      " 9   Is_active_member                       10000 non-null  int64  \n",
      " 10  Estimated_salary                       10000 non-null  float64\n",
      " 11  Exited                                 10000 non-null  int64  \n",
      " 12  Complain                               10000 non-null  int64  \n",
      " 13  Satisfaction_score                     10000 non-null  int64  \n",
      " 14  Card_type                              10000 non-null  object \n",
      " 15  Points_earned                          10000 non-null  int64  \n",
      " 16  Credit_profile                         10000 non-null  object \n",
      " 17  Age_profile                            10000 non-null  object \n",
      " 18  Balance_profile                        10000 non-null  object \n",
      " 19  Tenure_profile                         10000 non-null  object \n",
      " 20  Salary_profile                         10000 non-null  object \n",
      " 21  Points_profile                         10000 non-null  object \n",
      " 22  Does the customer have a credit card?  10000 non-null  object \n",
      " 23  Is the customer an active member?      10000 non-null  object \n",
      " 24  Has the customer exited?               10000 non-null  object \n",
      " 25  Has the customer complained?           10000 non-null  object \n",
      " 26  Customer sentiment                     10000 non-null  object \n",
      "dtypes: float64(2), int64(11), object(14)\n",
      "memory usage: 2.1+ MB\n"
     ]
    }
   ],
   "source": [
    "#check type of created columns\n",
    "df.info()"
   ]
  },
  {
   "cell_type": "markdown",
   "id": "e0fa7774",
   "metadata": {},
   "source": [
    "All created columns are string type variables, including the ones programmed in lesson 6.2 which is great because they are all qualitative."
   ]
  },
  {
   "cell_type": "markdown",
   "id": "20f59c27",
   "metadata": {},
   "source": [
    "**5. Renaming of columns for tableau**"
   ]
  },
  {
   "cell_type": "code",
   "execution_count": 23,
   "id": "55103b13",
   "metadata": {},
   "outputs": [],
   "source": [
    "#rename some columns for tableau\n",
    "df_tab = df.rename(columns = {'Customer_id' : 'Customer Id', 'Credit_score' : 'Credit score', \n",
    "                               'Number_of_products': 'Number of products', 'Has_credit_card': 'Has credit card',\n",
    "                               'Is_active_member' : 'Is active member', 'Estimated_salary' : 'Estimated salary',\n",
    "                               'Satisfaction_score' : 'Satisfaction score', 'Card_type' : 'Card type',\n",
    "                               'Points_earned' : 'Points earned', 'Credit_profile' : 'Credit profile',\n",
    "                                'Age_profile' : 'Age profile', 'Balance_profile' : 'Balance profile', \n",
    "                                'Tenure_profile' : 'Tenure profile', 'Salary_profile' : 'Salary profile',\n",
    "                                'Points_profile' : 'Points profile'})"
   ]
  },
  {
   "cell_type": "code",
   "execution_count": 24,
   "id": "e4c5ded8",
   "metadata": {},
   "outputs": [
    {
     "data": {
      "text/plain": [
       "Index(['Customer Id', 'Credit score', 'Geography', 'Gender', 'Age', 'Tenure',\n",
       "       'Balance', 'Number of products', 'Has credit card', 'Is active member',\n",
       "       'Estimated salary', 'Exited', 'Complain', 'Satisfaction score',\n",
       "       'Card type', 'Points earned', 'Credit profile', 'Age profile',\n",
       "       'Balance profile', 'Tenure profile', 'Salary profile', 'Points profile',\n",
       "       'Does the customer have a credit card?',\n",
       "       'Is the customer an active member?', 'Has the customer exited?',\n",
       "       'Has the customer complained?', 'Customer sentiment'],\n",
       "      dtype='object')"
      ]
     },
     "execution_count": 24,
     "metadata": {},
     "output_type": "execute_result"
    }
   ],
   "source": [
    "#check\n",
    "df_tab.columns"
   ]
  },
  {
   "cell_type": "markdown",
   "id": "068f1fd6",
   "metadata": {},
   "source": [
    "**6. Export file**"
   ]
  },
  {
   "cell_type": "code",
   "execution_count": 25,
   "id": "4223727a",
   "metadata": {},
   "outputs": [],
   "source": [
    "#export df_tab which has newly made variables and renaming of columns\n",
    "\n",
    "df_tab.to_csv(os.path.join(path, 'cust_churn_records_var2.csv'))"
   ]
  },
  {
   "cell_type": "code",
   "execution_count": null,
   "id": "95ce902a",
   "metadata": {},
   "outputs": [],
   "source": []
  }
 ],
 "metadata": {
  "kernelspec": {
   "display_name": "Python 3 (ipykernel)",
   "language": "python",
   "name": "python3"
  },
  "language_info": {
   "codemirror_mode": {
    "name": "ipython",
    "version": 3
   },
   "file_extension": ".py",
   "mimetype": "text/x-python",
   "name": "python",
   "nbconvert_exporter": "python",
   "pygments_lexer": "ipython3",
   "version": "3.10.9"
  }
 },
 "nbformat": 4,
 "nbformat_minor": 5
}
