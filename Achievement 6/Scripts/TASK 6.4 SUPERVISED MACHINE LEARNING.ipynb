{
 "cells": [
  {
   "cell_type": "markdown",
   "id": "3429204c",
   "metadata": {},
   "source": [
    "# TASK 6.4 SUPERVISED MACHINE LEARNING"
   ]
  },
  {
   "cell_type": "markdown",
   "id": "e732b805",
   "metadata": {},
   "source": [
    "**THIS SCRIPT CONTAINS THE FOLLOWING SECTIONS:**\n",
    "    \n",
    "    1. Import the libraries you need into a new notebook, including any necessary modules from scikit-learn.\n",
    "    \n",
    "    2. Clean your data so that it’s ready for analysis.\n",
    "    \n",
    "    3. Explore your data visually (e.g., by way of a scatterplot), looking for variables whose relationship you’d like to \n",
    "       test.\n",
    "    \n",
    "    4. State your hypothesis in a markdown cell within your Jupyter notebook.\n",
    "    \n",
    "    5. Reshape the variables into NumPy arrays, with X being the independent variable and y being the dependent variable.\n",
    "    \n",
    "    6. Split the data into two sets: a training set and a test set.\n",
    "    \n",
    "    7. Run a linear regression on the data. First, fit the model you created to the training set. \n",
    "       Then, create a prediction for y on the test set.\n",
    "    \n",
    "    8. Create a plot that shows the regression line on the test set.\n",
    "    \n",
    "    9. Write your own interpretation of how well the line appears to fit the data in a markdown cell.\n",
    "    \n",
    "    10.Check the model performance statistics—MSE and R2 score.\n",
    "    \n",
    "    11. Compare the predicted y values with the actual y values in a dataframe.\n",
    "    \n",
    "    12. Include your thoughts on how well the model performed on the test set in a markdown cell. \n",
    "        Include any reflections you have on the impact of possible data bias\n",
    "\n",
    "    "
   ]
  },
  {
   "cell_type": "markdown",
   "id": "9fd0eef8",
   "metadata": {},
   "source": [
    "**1. Import the libraries you need into a new notebook, including any necessary modules from scikit-learn.**"
   ]
  },
  {
   "cell_type": "code",
   "execution_count": 1,
   "id": "0c69f506",
   "metadata": {},
   "outputs": [],
   "source": [
    "#import libraries\n",
    "import pandas as pd\n",
    "import numpy as np\n",
    "import seaborn as sns\n",
    "import matplotlib\n",
    "import matplotlib.pyplot as plt\n",
    "import os\n",
    "import sklearn\n",
    "from sklearn.model_selection import train_test_split \n",
    "from sklearn.linear_model import LinearRegression\n",
    "from sklearn.metrics import mean_squared_error, r2_score"
   ]
  },
  {
   "cell_type": "code",
   "execution_count": 2,
   "id": "6c1f6d33",
   "metadata": {},
   "outputs": [],
   "source": [
    "#define path\n",
    "path = r'C:\\Users\\ddgal\\OneDrive\\Desktop\\Career Foundry Tasks\\Data Immersion\\Achievement 6'"
   ]
  },
  {
   "cell_type": "code",
   "execution_count": 3,
   "id": "f0214420",
   "metadata": {},
   "outputs": [],
   "source": [
    "#import file\n",
    "df = pd.read_csv(os.path.join(path, 'Prepared Data', 'cust_churn_records_var.csv'), index_col=0)"
   ]
  },
  {
   "cell_type": "code",
   "execution_count": 4,
   "id": "af62eb1d",
   "metadata": {},
   "outputs": [
    {
     "data": {
      "text/plain": [
       "(10000, 22)"
      ]
     },
     "execution_count": 4,
     "metadata": {},
     "output_type": "execute_result"
    }
   ],
   "source": [
    "#check shape, should have 10000 rows and 22 columns\n",
    "df.shape"
   ]
  },
  {
   "cell_type": "code",
   "execution_count": 5,
   "id": "ac3b6f29",
   "metadata": {},
   "outputs": [],
   "source": [
    "#display all columns\n",
    "pd.set_option('display.max_columns', None)"
   ]
  },
  {
   "cell_type": "code",
   "execution_count": 6,
   "id": "c5130cc1",
   "metadata": {},
   "outputs": [
    {
     "data": {
      "text/html": [
       "<div>\n",
       "<style scoped>\n",
       "    .dataframe tbody tr th:only-of-type {\n",
       "        vertical-align: middle;\n",
       "    }\n",
       "\n",
       "    .dataframe tbody tr th {\n",
       "        vertical-align: top;\n",
       "    }\n",
       "\n",
       "    .dataframe thead th {\n",
       "        text-align: right;\n",
       "    }\n",
       "</style>\n",
       "<table border=\"1\" class=\"dataframe\">\n",
       "  <thead>\n",
       "    <tr style=\"text-align: right;\">\n",
       "      <th></th>\n",
       "      <th>Customer_id</th>\n",
       "      <th>Credit_score</th>\n",
       "      <th>Geography</th>\n",
       "      <th>Gender</th>\n",
       "      <th>Age</th>\n",
       "      <th>Tenure</th>\n",
       "      <th>Balance</th>\n",
       "      <th>Number_of_products</th>\n",
       "      <th>Has_credit_card</th>\n",
       "      <th>Is_active_member</th>\n",
       "      <th>Estimated_salary</th>\n",
       "      <th>Exited</th>\n",
       "      <th>Complain</th>\n",
       "      <th>Satisfaction_score</th>\n",
       "      <th>Card_type</th>\n",
       "      <th>Points_earned</th>\n",
       "      <th>Credit_profile</th>\n",
       "      <th>Age_profile</th>\n",
       "      <th>Balance_profile</th>\n",
       "      <th>Tenure_profile</th>\n",
       "      <th>Salary_profile</th>\n",
       "      <th>Points_profile</th>\n",
       "    </tr>\n",
       "    <tr>\n",
       "      <th>RowNumber</th>\n",
       "      <th></th>\n",
       "      <th></th>\n",
       "      <th></th>\n",
       "      <th></th>\n",
       "      <th></th>\n",
       "      <th></th>\n",
       "      <th></th>\n",
       "      <th></th>\n",
       "      <th></th>\n",
       "      <th></th>\n",
       "      <th></th>\n",
       "      <th></th>\n",
       "      <th></th>\n",
       "      <th></th>\n",
       "      <th></th>\n",
       "      <th></th>\n",
       "      <th></th>\n",
       "      <th></th>\n",
       "      <th></th>\n",
       "      <th></th>\n",
       "      <th></th>\n",
       "      <th></th>\n",
       "    </tr>\n",
       "  </thead>\n",
       "  <tbody>\n",
       "    <tr>\n",
       "      <th>1</th>\n",
       "      <td>15634602</td>\n",
       "      <td>619</td>\n",
       "      <td>France</td>\n",
       "      <td>Female</td>\n",
       "      <td>42</td>\n",
       "      <td>2</td>\n",
       "      <td>0.00</td>\n",
       "      <td>1</td>\n",
       "      <td>1</td>\n",
       "      <td>1</td>\n",
       "      <td>101348.88</td>\n",
       "      <td>1</td>\n",
       "      <td>1</td>\n",
       "      <td>2</td>\n",
       "      <td>DIAMOND</td>\n",
       "      <td>464</td>\n",
       "      <td>Fair credit ccore</td>\n",
       "      <td>Middle aged</td>\n",
       "      <td>No balance</td>\n",
       "      <td>Low Tenure</td>\n",
       "      <td>Middle class</td>\n",
       "      <td>Middle points</td>\n",
       "    </tr>\n",
       "    <tr>\n",
       "      <th>2</th>\n",
       "      <td>15647311</td>\n",
       "      <td>608</td>\n",
       "      <td>Spain</td>\n",
       "      <td>Female</td>\n",
       "      <td>41</td>\n",
       "      <td>1</td>\n",
       "      <td>83807.86</td>\n",
       "      <td>1</td>\n",
       "      <td>0</td>\n",
       "      <td>1</td>\n",
       "      <td>112542.58</td>\n",
       "      <td>0</td>\n",
       "      <td>1</td>\n",
       "      <td>3</td>\n",
       "      <td>DIAMOND</td>\n",
       "      <td>456</td>\n",
       "      <td>Fair credit ccore</td>\n",
       "      <td>Middle aged</td>\n",
       "      <td>Low balance</td>\n",
       "      <td>Low Tenure</td>\n",
       "      <td>Middle class</td>\n",
       "      <td>Middle points</td>\n",
       "    </tr>\n",
       "    <tr>\n",
       "      <th>3</th>\n",
       "      <td>15619304</td>\n",
       "      <td>502</td>\n",
       "      <td>France</td>\n",
       "      <td>Female</td>\n",
       "      <td>42</td>\n",
       "      <td>8</td>\n",
       "      <td>159660.80</td>\n",
       "      <td>3</td>\n",
       "      <td>1</td>\n",
       "      <td>0</td>\n",
       "      <td>113931.57</td>\n",
       "      <td>1</td>\n",
       "      <td>1</td>\n",
       "      <td>3</td>\n",
       "      <td>DIAMOND</td>\n",
       "      <td>377</td>\n",
       "      <td>Poor credit score</td>\n",
       "      <td>Middle aged</td>\n",
       "      <td>High balance</td>\n",
       "      <td>High Tenure</td>\n",
       "      <td>Middle class</td>\n",
       "      <td>Low points</td>\n",
       "    </tr>\n",
       "    <tr>\n",
       "      <th>4</th>\n",
       "      <td>15701354</td>\n",
       "      <td>699</td>\n",
       "      <td>France</td>\n",
       "      <td>Female</td>\n",
       "      <td>39</td>\n",
       "      <td>1</td>\n",
       "      <td>0.00</td>\n",
       "      <td>2</td>\n",
       "      <td>0</td>\n",
       "      <td>0</td>\n",
       "      <td>93826.63</td>\n",
       "      <td>0</td>\n",
       "      <td>0</td>\n",
       "      <td>5</td>\n",
       "      <td>GOLD</td>\n",
       "      <td>350</td>\n",
       "      <td>Fair credit ccore</td>\n",
       "      <td>Young adult</td>\n",
       "      <td>No balance</td>\n",
       "      <td>Low Tenure</td>\n",
       "      <td>Middle class</td>\n",
       "      <td>Low points</td>\n",
       "    </tr>\n",
       "    <tr>\n",
       "      <th>5</th>\n",
       "      <td>15737888</td>\n",
       "      <td>850</td>\n",
       "      <td>Spain</td>\n",
       "      <td>Female</td>\n",
       "      <td>43</td>\n",
       "      <td>2</td>\n",
       "      <td>125510.82</td>\n",
       "      <td>1</td>\n",
       "      <td>1</td>\n",
       "      <td>1</td>\n",
       "      <td>79084.10</td>\n",
       "      <td>0</td>\n",
       "      <td>0</td>\n",
       "      <td>5</td>\n",
       "      <td>GOLD</td>\n",
       "      <td>425</td>\n",
       "      <td>Excellent credit score</td>\n",
       "      <td>Middle aged</td>\n",
       "      <td>Medium balance</td>\n",
       "      <td>Low Tenure</td>\n",
       "      <td>Middle class</td>\n",
       "      <td>Middle points</td>\n",
       "    </tr>\n",
       "  </tbody>\n",
       "</table>\n",
       "</div>"
      ],
      "text/plain": [
       "           Customer_id  Credit_score Geography  Gender  Age  Tenure  \\\n",
       "RowNumber                                                             \n",
       "1             15634602           619    France  Female   42       2   \n",
       "2             15647311           608     Spain  Female   41       1   \n",
       "3             15619304           502    France  Female   42       8   \n",
       "4             15701354           699    France  Female   39       1   \n",
       "5             15737888           850     Spain  Female   43       2   \n",
       "\n",
       "             Balance  Number_of_products  Has_credit_card  Is_active_member  \\\n",
       "RowNumber                                                                     \n",
       "1               0.00                   1                1                 1   \n",
       "2           83807.86                   1                0                 1   \n",
       "3          159660.80                   3                1                 0   \n",
       "4               0.00                   2                0                 0   \n",
       "5          125510.82                   1                1                 1   \n",
       "\n",
       "           Estimated_salary  Exited  Complain  Satisfaction_score Card_type  \\\n",
       "RowNumber                                                                     \n",
       "1                 101348.88       1         1                   2   DIAMOND   \n",
       "2                 112542.58       0         1                   3   DIAMOND   \n",
       "3                 113931.57       1         1                   3   DIAMOND   \n",
       "4                  93826.63       0         0                   5      GOLD   \n",
       "5                  79084.10       0         0                   5      GOLD   \n",
       "\n",
       "           Points_earned          Credit_profile  Age_profile Balance_profile  \\\n",
       "RowNumber                                                                       \n",
       "1                    464       Fair credit ccore  Middle aged      No balance   \n",
       "2                    456       Fair credit ccore  Middle aged     Low balance   \n",
       "3                    377       Poor credit score  Middle aged    High balance   \n",
       "4                    350       Fair credit ccore  Young adult      No balance   \n",
       "5                    425  Excellent credit score  Middle aged  Medium balance   \n",
       "\n",
       "          Tenure_profile Salary_profile Points_profile  \n",
       "RowNumber                                               \n",
       "1             Low Tenure   Middle class  Middle points  \n",
       "2             Low Tenure   Middle class  Middle points  \n",
       "3            High Tenure   Middle class     Low points  \n",
       "4             Low Tenure   Middle class     Low points  \n",
       "5             Low Tenure   Middle class  Middle points  "
      ]
     },
     "execution_count": 6,
     "metadata": {},
     "output_type": "execute_result"
    }
   ],
   "source": [
    "#check head of df\n",
    "df.head()"
   ]
  },
  {
   "cell_type": "markdown",
   "id": "04702aff",
   "metadata": {},
   "source": [
    "**2. Clean your data so that it’s ready for analysis.**"
   ]
  },
  {
   "cell_type": "code",
   "execution_count": 7,
   "id": "0a6de7d2",
   "metadata": {},
   "outputs": [
    {
     "data": {
      "text/plain": [
       "Customer_id           0\n",
       "Credit_score          0\n",
       "Geography             0\n",
       "Gender                0\n",
       "Age                   0\n",
       "Tenure                0\n",
       "Balance               0\n",
       "Number_of_products    0\n",
       "Has_credit_card       0\n",
       "Is_active_member      0\n",
       "Estimated_salary      0\n",
       "Exited                0\n",
       "Complain              0\n",
       "Satisfaction_score    0\n",
       "Card_type             0\n",
       "Points_earned         0\n",
       "Credit_profile        0\n",
       "Age_profile           0\n",
       "Balance_profile       0\n",
       "Tenure_profile        0\n",
       "Salary_profile        0\n",
       "Points_profile        0\n",
       "dtype: int64"
      ]
     },
     "execution_count": 7,
     "metadata": {},
     "output_type": "execute_result"
    }
   ],
   "source": [
    "#check null values\n",
    "df.isnull().sum()"
   ]
  },
  {
   "cell_type": "markdown",
   "id": "51a6285a",
   "metadata": {},
   "source": [
    "There are no null values."
   ]
  },
  {
   "cell_type": "code",
   "execution_count": 8,
   "id": "1e4161d6",
   "metadata": {},
   "outputs": [
    {
     "data": {
      "text/html": [
       "<div>\n",
       "<style scoped>\n",
       "    .dataframe tbody tr th:only-of-type {\n",
       "        vertical-align: middle;\n",
       "    }\n",
       "\n",
       "    .dataframe tbody tr th {\n",
       "        vertical-align: top;\n",
       "    }\n",
       "\n",
       "    .dataframe thead th {\n",
       "        text-align: right;\n",
       "    }\n",
       "</style>\n",
       "<table border=\"1\" class=\"dataframe\">\n",
       "  <thead>\n",
       "    <tr style=\"text-align: right;\">\n",
       "      <th></th>\n",
       "      <th>Customer_id</th>\n",
       "      <th>Credit_score</th>\n",
       "      <th>Geography</th>\n",
       "      <th>Gender</th>\n",
       "      <th>Age</th>\n",
       "      <th>Tenure</th>\n",
       "      <th>Balance</th>\n",
       "      <th>Number_of_products</th>\n",
       "      <th>Has_credit_card</th>\n",
       "      <th>Is_active_member</th>\n",
       "      <th>Estimated_salary</th>\n",
       "      <th>Exited</th>\n",
       "      <th>Complain</th>\n",
       "      <th>Satisfaction_score</th>\n",
       "      <th>Card_type</th>\n",
       "      <th>Points_earned</th>\n",
       "      <th>Credit_profile</th>\n",
       "      <th>Age_profile</th>\n",
       "      <th>Balance_profile</th>\n",
       "      <th>Tenure_profile</th>\n",
       "      <th>Salary_profile</th>\n",
       "      <th>Points_profile</th>\n",
       "    </tr>\n",
       "    <tr>\n",
       "      <th>RowNumber</th>\n",
       "      <th></th>\n",
       "      <th></th>\n",
       "      <th></th>\n",
       "      <th></th>\n",
       "      <th></th>\n",
       "      <th></th>\n",
       "      <th></th>\n",
       "      <th></th>\n",
       "      <th></th>\n",
       "      <th></th>\n",
       "      <th></th>\n",
       "      <th></th>\n",
       "      <th></th>\n",
       "      <th></th>\n",
       "      <th></th>\n",
       "      <th></th>\n",
       "      <th></th>\n",
       "      <th></th>\n",
       "      <th></th>\n",
       "      <th></th>\n",
       "      <th></th>\n",
       "      <th></th>\n",
       "    </tr>\n",
       "  </thead>\n",
       "  <tbody>\n",
       "  </tbody>\n",
       "</table>\n",
       "</div>"
      ],
      "text/plain": [
       "Empty DataFrame\n",
       "Columns: [Customer_id, Credit_score, Geography, Gender, Age, Tenure, Balance, Number_of_products, Has_credit_card, Is_active_member, Estimated_salary, Exited, Complain, Satisfaction_score, Card_type, Points_earned, Credit_profile, Age_profile, Balance_profile, Tenure_profile, Salary_profile, Points_profile]\n",
       "Index: []"
      ]
     },
     "execution_count": 8,
     "metadata": {},
     "output_type": "execute_result"
    }
   ],
   "source": [
    "#check for duplicates\n",
    "df_dups = df[df.duplicated()]\n",
    "df_dups"
   ]
  },
  {
   "cell_type": "markdown",
   "id": "03449008",
   "metadata": {},
   "source": [
    "There are no duplicates."
   ]
  },
  {
   "cell_type": "markdown",
   "id": "66e71128",
   "metadata": {},
   "source": [
    "**3. Explore your data visually (e.g., by way of a scatterplot), looking for variables whose relationship you’d like to test.**"
   ]
  },
  {
   "cell_type": "code",
   "execution_count": 9,
   "id": "93b9bcd5",
   "metadata": {},
   "outputs": [
    {
     "data": {
      "text/plain": [
       "<seaborn.axisgrid.FacetGrid at 0x1d1f08fc6d0>"
      ]
     },
     "execution_count": 9,
     "metadata": {},
     "output_type": "execute_result"
    },
    {
     "data": {
      "image/png": "[encoded data removed]",
      "text/plain": [
       "<Figure size 500x500 with 1 Axes>"
      ]
     },
     "metadata": {},
     "output_type": "display_data"
    }
   ],
   "source": [
    "#create scatterplot between Exited and Complain columns \n",
    "sns.lmplot(x = 'Exited', y = 'Complain', data = df)"
   ]
  },
  {
   "cell_type": "markdown",
   "id": "6ba9bc72",
   "metadata": {},
   "source": [
    "As can be seen from the scatter plot, the line is a perfect one-to-one slope indicating a strong correaltion.  Thus I will use these two variables with Exited being the dependant variable and Complain being the independent variable."
   ]
  },
  {
   "cell_type": "markdown",
   "id": "6f38eff0",
   "metadata": {},
   "source": [
    "**4. State your hypothesis in a markdown cell within your Jupyter notebook.**"
   ]
  },
  {
   "cell_type": "markdown",
   "id": "69cde793",
   "metadata": {},
   "source": [
    "HYPOTHESIS: A CUSTOMER WILL LEAVE THE BANK IF THEY COMPLAIN."
   ]
  },
  {
   "cell_type": "markdown",
   "id": "eda26add",
   "metadata": {},
   "source": [
    "**5. Reshape the variables into NumPy arrays, with X being the independent variable and y being the dependent variable.**"
   ]
  },
  {
   "cell_type": "code",
   "execution_count": 10,
   "id": "2f66d3d0",
   "metadata": {},
   "outputs": [],
   "source": [
    "#reshape variables \n",
    "X = df['Complain'].values.reshape(-1, 1)\n",
    "y = df['Exited'].values.reshape(-1, 1)"
   ]
  },
  {
   "cell_type": "code",
   "execution_count": 11,
   "id": "569a3819",
   "metadata": {},
   "outputs": [
    {
     "data": {
      "text/plain": [
       "array([[1],\n",
       "       [1],\n",
       "       [1],\n",
       "       ...,\n",
       "       [1],\n",
       "       [1],\n",
       "       [0]], dtype=int64)"
      ]
     },
     "execution_count": 11,
     "metadata": {},
     "output_type": "execute_result"
    }
   ],
   "source": [
    "#check X\n",
    "X"
   ]
  },
  {
   "cell_type": "code",
   "execution_count": 12,
   "id": "7632eb3e",
   "metadata": {},
   "outputs": [
    {
     "data": {
      "text/plain": [
       "array([[1],\n",
       "       [0],\n",
       "       [1],\n",
       "       ...,\n",
       "       [1],\n",
       "       [1],\n",
       "       [0]], dtype=int64)"
      ]
     },
     "execution_count": 12,
     "metadata": {},
     "output_type": "execute_result"
    }
   ],
   "source": [
    "#check y\n",
    "y"
   ]
  },
  {
   "cell_type": "markdown",
   "id": "9339a9aa",
   "metadata": {},
   "source": [
    "**6. Split the data into two sets: a training set and a test set.**"
   ]
  },
  {
   "cell_type": "code",
   "execution_count": 13,
   "id": "82c678bd",
   "metadata": {},
   "outputs": [],
   "source": [
    "#split data into a training set and a test set.\n",
    "X_train, X_test, y_train, y_test = train_test_split(X, y, test_size=0.3, random_state=0)"
   ]
  },
  {
   "cell_type": "markdown",
   "id": "0aedf6f2",
   "metadata": {},
   "source": [
    "**7. Run a linear regression on the data. First, fit the model you created to the training set. Then, create a prediction for y on the test set.**"
   ]
  },
  {
   "cell_type": "code",
   "execution_count": 14,
   "id": "d0b26bd3",
   "metadata": {},
   "outputs": [],
   "source": [
    "#create regression object\n",
    "regression = LinearRegression()"
   ]
  },
  {
   "cell_type": "code",
   "execution_count": 15,
   "id": "be3cdcd2",
   "metadata": {},
   "outputs": [
    {
     "data": {
      "text/html": [
       "<style>#sk-container-id-1 {color: black;background-color: white;}#sk-container-id-1 pre{padding: 0;}#sk-container-id-1 div.sk-toggleable {background-color: white;}#sk-container-id-1 label.sk-toggleable__label {cursor: pointer;display: block;width: 100%;margin-bottom: 0;padding: 0.3em;box-sizing: border-box;text-align: center;}#sk-container-id-1 label.sk-toggleable__label-arrow:before {content: \"▸\";float: left;margin-right: 0.25em;color: #696969;}#sk-container-id-1 label.sk-toggleable__label-arrow:hover:before {color: black;}#sk-container-id-1 div.sk-estimator:hover label.sk-toggleable__label-arrow:before {color: black;}#sk-container-id-1 div.sk-toggleable__content {max-height: 0;max-width: 0;overflow: hidden;text-align: left;background-color: #f0f8ff;}#sk-container-id-1 div.sk-toggleable__content pre {margin: 0.2em;color: black;border-radius: 0.25em;background-color: #f0f8ff;}#sk-container-id-1 input.sk-toggleable__control:checked~div.sk-toggleable__content {max-height: 200px;max-width: 100%;overflow: auto;}#sk-container-id-1 input.sk-toggleable__control:checked~label.sk-toggleable__label-arrow:before {content: \"▾\";}#sk-container-id-1 div.sk-estimator input.sk-toggleable__control:checked~label.sk-toggleable__label {background-color: #d4ebff;}#sk-container-id-1 div.sk-label input.sk-toggleable__control:checked~label.sk-toggleable__label {background-color: #d4ebff;}#sk-container-id-1 input.sk-hidden--visually {border: 0;clip: rect(1px 1px 1px 1px);clip: rect(1px, 1px, 1px, 1px);height: 1px;margin: -1px;overflow: hidden;padding: 0;position: absolute;width: 1px;}#sk-container-id-1 div.sk-estimator {font-family: monospace;background-color: #f0f8ff;border: 1px dotted black;border-radius: 0.25em;box-sizing: border-box;margin-bottom: 0.5em;}#sk-container-id-1 div.sk-estimator:hover {background-color: #d4ebff;}#sk-container-id-1 div.sk-parallel-item::after {content: \"\";width: 100%;border-bottom: 1px solid gray;flex-grow: 1;}#sk-container-id-1 div.sk-label:hover label.sk-toggleable__label {background-color: #d4ebff;}#sk-container-id-1 div.sk-serial::before {content: \"\";position: absolute;border-left: 1px solid gray;box-sizing: border-box;top: 0;bottom: 0;left: 50%;z-index: 0;}#sk-container-id-1 div.sk-serial {display: flex;flex-direction: column;align-items: center;background-color: white;padding-right: 0.2em;padding-left: 0.2em;position: relative;}#sk-container-id-1 div.sk-item {position: relative;z-index: 1;}#sk-container-id-1 div.sk-parallel {display: flex;align-items: stretch;justify-content: center;background-color: white;position: relative;}#sk-container-id-1 div.sk-item::before, #sk-container-id-1 div.sk-parallel-item::before {content: \"\";position: absolute;border-left: 1px solid gray;box-sizing: border-box;top: 0;bottom: 0;left: 50%;z-index: -1;}#sk-container-id-1 div.sk-parallel-item {display: flex;flex-direction: column;z-index: 1;position: relative;background-color: white;}#sk-container-id-1 div.sk-parallel-item:first-child::after {align-self: flex-end;width: 50%;}#sk-container-id-1 div.sk-parallel-item:last-child::after {align-self: flex-start;width: 50%;}#sk-container-id-1 div.sk-parallel-item:only-child::after {width: 0;}#sk-container-id-1 div.sk-dashed-wrapped {border: 1px dashed gray;margin: 0 0.4em 0.5em 0.4em;box-sizing: border-box;padding-bottom: 0.4em;background-color: white;}#sk-container-id-1 div.sk-label label {font-family: monospace;font-weight: bold;display: inline-block;line-height: 1.2em;}#sk-container-id-1 div.sk-label-container {text-align: center;}#sk-container-id-1 div.sk-container {/* jupyter's `normalize.less` sets `[hidden] { display: none; }` but bootstrap.min.css set `[hidden] { display: none !important; }` so we also need the `!important` here to be able to override the default hidden behavior on the sphinx rendered scikit-learn.org. See: https://github.com/scikit-learn/scikit-learn/issues/21755 */display: inline-block !important;position: relative;}#sk-container-id-1 div.sk-text-repr-fallback {display: none;}</style><div id=\"sk-container-id-1\" class=\"sk-top-container\"><div class=\"sk-text-repr-fallback\"><pre>LinearRegression()</pre><b>In a Jupyter environment, please rerun this cell to show the HTML representation or trust the notebook. <br />On GitHub, the HTML representation is unable to render, please try loading this page with nbviewer.org.</b></div><div class=\"sk-container\" hidden><div class=\"sk-item\"><div class=\"sk-estimator sk-toggleable\"><input class=\"sk-toggleable__control sk-hidden--visually\" id=\"sk-estimator-id-1\" type=\"checkbox\" checked><label for=\"sk-estimator-id-1\" class=\"sk-toggleable__label sk-toggleable__label-arrow\">LinearRegression</label><div class=\"sk-toggleable__content\"><pre>LinearRegression()</pre></div></div></div></div></div>"
      ],
      "text/plain": [
       "LinearRegression()"
      ]
     },
     "execution_count": 15,
     "metadata": {},
     "output_type": "execute_result"
    }
   ],
   "source": [
    "#fit the regression object onto the training set.\n",
    "regression.fit(X_train, y_train)"
   ]
  },
  {
   "cell_type": "code",
   "execution_count": 16,
   "id": "0152532a",
   "metadata": {},
   "outputs": [],
   "source": [
    "#predict the values of y using X.\n",
    "y_predicted = regression.predict(X_test)"
   ]
  },
  {
   "cell_type": "markdown",
   "id": "b0befda1",
   "metadata": {},
   "source": [
    "**8. Create a plot that shows the regression line on the test set.**"
   ]
  },
  {
   "cell_type": "code",
   "execution_count": 20,
   "id": "ba54d9d7",
   "metadata": {},
   "outputs": [
    {
     "data": {
      "image/png": "[encoded data removed]",
      "text/plain": [
       "<Figure size 640x480 with 1 Axes>"
      ]
     },
     "metadata": {},
     "output_type": "display_data"
    }
   ],
   "source": [
    "#visualizing the training set results.\n",
    "plot_test = plt\n",
    "plot_test.scatter(X_test, y_test, color='gray', s = 15)\n",
    "plot_test.plot(X_test, y_predicted, color='red', linewidth =3)\n",
    "plot_test.title('Complain vs Exited (Test set)')\n",
    "plot_test.xlabel('Complain')\n",
    "plot_test.ylabel('Exited')\n",
    "plot_test.show()"
   ]
  },
  {
   "cell_type": "markdown",
   "id": "88fe6bb6",
   "metadata": {},
   "source": [
    "**9. Write your own interpretation of how well the line appears to fit the data in a markdown cell.**"
   ]
  },
  {
   "cell_type": "markdown",
   "id": "1c150300",
   "metadata": {},
   "source": [
    "The line appears to fit the data perfectly, at a one-to-one ratio.  This indicates that everyone who complained, exited the bank.  There does seem to be some outliers but because the line has such a perfect one-to-one ratio, the outliers are very few. "
   ]
  },
  {
   "cell_type": "markdown",
   "id": "effc9df9",
   "metadata": {},
   "source": [
    "**10.Check the model performance statistics—MSE and R2 score.**"
   ]
  },
  {
   "cell_type": "code",
   "execution_count": 21,
   "id": "7fa0f2da",
   "metadata": {},
   "outputs": [],
   "source": [
    "#create objects that contain the model summary statistics.\n",
    "rmse = mean_squared_error(y_test, y_predicted) #this is the mean squared error\n",
    "r2 = r2_score(y_test, y_predicted) #this is the R2 score. "
   ]
  },
  {
   "cell_type": "code",
   "execution_count": 22,
   "id": "5836ada3",
   "metadata": {},
   "outputs": [
    {
     "name": "stdout",
     "output_type": "stream",
     "text": [
      "Slope: [[0.99401557]]\n",
      "Mean squared error:  0.0013320182039997762\n",
      "R2 score:  0.9918950482342169\n"
     ]
    }
   ],
   "source": [
    "#print the slope, mean squared error, and r2 score\n",
    "print('Slope:' ,regression.coef_)\n",
    "print('Mean squared error: ', rmse)\n",
    "print('R2 score: ', r2)"
   ]
  },
  {
   "cell_type": "markdown",
   "id": "4b428a8c",
   "metadata": {},
   "source": [
    "The slope indicates a positive relationship so as X increases so does y.  The MSE is very small which tells us the regression line is very close to the set of points.  The R2 score is close to one so it means we have a good fit at explaining the variance of the data. "
   ]
  },
  {
   "cell_type": "markdown",
   "id": "d2aba799",
   "metadata": {},
   "source": [
    "**11. Compare the predicted y values with the actual y values in a dataframe.**"
   ]
  },
  {
   "cell_type": "code",
   "execution_count": 24,
   "id": "a8289cca",
   "metadata": {},
   "outputs": [
    {
     "data": {
      "text/html": [
       "<div>\n",
       "<style scoped>\n",
       "    .dataframe tbody tr th:only-of-type {\n",
       "        vertical-align: middle;\n",
       "    }\n",
       "\n",
       "    .dataframe tbody tr th {\n",
       "        vertical-align: top;\n",
       "    }\n",
       "\n",
       "    .dataframe thead th {\n",
       "        text-align: right;\n",
       "    }\n",
       "</style>\n",
       "<table border=\"1\" class=\"dataframe\">\n",
       "  <thead>\n",
       "    <tr style=\"text-align: right;\">\n",
       "      <th></th>\n",
       "      <th>Actual</th>\n",
       "      <th>Predicted</th>\n",
       "    </tr>\n",
       "  </thead>\n",
       "  <tbody>\n",
       "    <tr>\n",
       "      <th>0</th>\n",
       "      <td>0</td>\n",
       "      <td>0.000359</td>\n",
       "    </tr>\n",
       "    <tr>\n",
       "      <th>1</th>\n",
       "      <td>1</td>\n",
       "      <td>0.994374</td>\n",
       "    </tr>\n",
       "    <tr>\n",
       "      <th>2</th>\n",
       "      <td>0</td>\n",
       "      <td>0.000359</td>\n",
       "    </tr>\n",
       "    <tr>\n",
       "      <th>3</th>\n",
       "      <td>0</td>\n",
       "      <td>0.000359</td>\n",
       "    </tr>\n",
       "    <tr>\n",
       "      <th>4</th>\n",
       "      <td>0</td>\n",
       "      <td>0.000359</td>\n",
       "    </tr>\n",
       "    <tr>\n",
       "      <th>5</th>\n",
       "      <td>1</td>\n",
       "      <td>0.994374</td>\n",
       "    </tr>\n",
       "    <tr>\n",
       "      <th>6</th>\n",
       "      <td>0</td>\n",
       "      <td>0.000359</td>\n",
       "    </tr>\n",
       "    <tr>\n",
       "      <th>7</th>\n",
       "      <td>0</td>\n",
       "      <td>0.000359</td>\n",
       "    </tr>\n",
       "    <tr>\n",
       "      <th>8</th>\n",
       "      <td>1</td>\n",
       "      <td>0.994374</td>\n",
       "    </tr>\n",
       "    <tr>\n",
       "      <th>9</th>\n",
       "      <td>1</td>\n",
       "      <td>0.994374</td>\n",
       "    </tr>\n",
       "    <tr>\n",
       "      <th>10</th>\n",
       "      <td>0</td>\n",
       "      <td>0.000359</td>\n",
       "    </tr>\n",
       "    <tr>\n",
       "      <th>11</th>\n",
       "      <td>0</td>\n",
       "      <td>0.000359</td>\n",
       "    </tr>\n",
       "    <tr>\n",
       "      <th>12</th>\n",
       "      <td>0</td>\n",
       "      <td>0.000359</td>\n",
       "    </tr>\n",
       "    <tr>\n",
       "      <th>13</th>\n",
       "      <td>0</td>\n",
       "      <td>0.000359</td>\n",
       "    </tr>\n",
       "    <tr>\n",
       "      <th>14</th>\n",
       "      <td>1</td>\n",
       "      <td>0.994374</td>\n",
       "    </tr>\n",
       "    <tr>\n",
       "      <th>15</th>\n",
       "      <td>1</td>\n",
       "      <td>0.994374</td>\n",
       "    </tr>\n",
       "    <tr>\n",
       "      <th>16</th>\n",
       "      <td>0</td>\n",
       "      <td>0.000359</td>\n",
       "    </tr>\n",
       "    <tr>\n",
       "      <th>17</th>\n",
       "      <td>0</td>\n",
       "      <td>0.000359</td>\n",
       "    </tr>\n",
       "    <tr>\n",
       "      <th>18</th>\n",
       "      <td>0</td>\n",
       "      <td>0.000359</td>\n",
       "    </tr>\n",
       "    <tr>\n",
       "      <th>19</th>\n",
       "      <td>0</td>\n",
       "      <td>0.000359</td>\n",
       "    </tr>\n",
       "    <tr>\n",
       "      <th>20</th>\n",
       "      <td>0</td>\n",
       "      <td>0.000359</td>\n",
       "    </tr>\n",
       "    <tr>\n",
       "      <th>21</th>\n",
       "      <td>0</td>\n",
       "      <td>0.000359</td>\n",
       "    </tr>\n",
       "    <tr>\n",
       "      <th>22</th>\n",
       "      <td>0</td>\n",
       "      <td>0.000359</td>\n",
       "    </tr>\n",
       "    <tr>\n",
       "      <th>23</th>\n",
       "      <td>0</td>\n",
       "      <td>0.000359</td>\n",
       "    </tr>\n",
       "    <tr>\n",
       "      <th>24</th>\n",
       "      <td>0</td>\n",
       "      <td>0.000359</td>\n",
       "    </tr>\n",
       "    <tr>\n",
       "      <th>25</th>\n",
       "      <td>0</td>\n",
       "      <td>0.000359</td>\n",
       "    </tr>\n",
       "    <tr>\n",
       "      <th>26</th>\n",
       "      <td>0</td>\n",
       "      <td>0.000359</td>\n",
       "    </tr>\n",
       "    <tr>\n",
       "      <th>27</th>\n",
       "      <td>0</td>\n",
       "      <td>0.000359</td>\n",
       "    </tr>\n",
       "    <tr>\n",
       "      <th>28</th>\n",
       "      <td>0</td>\n",
       "      <td>0.000359</td>\n",
       "    </tr>\n",
       "    <tr>\n",
       "      <th>29</th>\n",
       "      <td>0</td>\n",
       "      <td>0.000359</td>\n",
       "    </tr>\n",
       "  </tbody>\n",
       "</table>\n",
       "</div>"
      ],
      "text/plain": [
       "    Actual  Predicted\n",
       "0        0   0.000359\n",
       "1        1   0.994374\n",
       "2        0   0.000359\n",
       "3        0   0.000359\n",
       "4        0   0.000359\n",
       "5        1   0.994374\n",
       "6        0   0.000359\n",
       "7        0   0.000359\n",
       "8        1   0.994374\n",
       "9        1   0.994374\n",
       "10       0   0.000359\n",
       "11       0   0.000359\n",
       "12       0   0.000359\n",
       "13       0   0.000359\n",
       "14       1   0.994374\n",
       "15       1   0.994374\n",
       "16       0   0.000359\n",
       "17       0   0.000359\n",
       "18       0   0.000359\n",
       "19       0   0.000359\n",
       "20       0   0.000359\n",
       "21       0   0.000359\n",
       "22       0   0.000359\n",
       "23       0   0.000359\n",
       "24       0   0.000359\n",
       "25       0   0.000359\n",
       "26       0   0.000359\n",
       "27       0   0.000359\n",
       "28       0   0.000359\n",
       "29       0   0.000359"
      ]
     },
     "execution_count": 24,
     "metadata": {},
     "output_type": "execute_result"
    }
   ],
   "source": [
    "#create a df comparing actual y values to predicted ones\n",
    "df_predict = pd.DataFrame({'Actual': y_test.flatten(), 'Predicted': y_predicted.flatten()})\n",
    "df_predict.head(30)"
   ]
  },
  {
   "cell_type": "markdown",
   "id": "1aa7359d",
   "metadata": {},
   "source": [
    "As can be seen from the above table, the y predict values are very close to the actual values.  "
   ]
  },
  {
   "cell_type": "markdown",
   "id": "4ea52d68",
   "metadata": {},
   "source": [
    "**12. Include your thoughts on how well the model performed on the test set in a markdown cell. Include any reflections you have on the impact of possible data bias.**"
   ]
  },
  {
   "cell_type": "markdown",
   "id": "66f1fded",
   "metadata": {},
   "source": [
    "The regression model worked very well at predicting customer churn.  I can say with certainty now that everyone who complains leaves the bank.  This could mean that the bank needs to work on their customer service to help with customer retention.  Perhaps, the next steps are to determine who complains the most and perhaps if possible why are they complaining, does it have something to do with credit cards, perhaps?\n",
    "Some biases in the data is to consider how were the complaints and exited factors measured by humans and/or machines.  Regardless of which, both cases would be susceptible to bias, one must ask the question how was it determined that somebody complained? Was it based on pre-determined factors? Were these factors strictly adhered to? The same for exited, what were the factors that determined if somebody exited? Was it based on pre-determined factors? Were these factors strictly adhered to?"
   ]
  },
  {
   "cell_type": "code",
   "execution_count": null,
   "id": "068fc36b",
   "metadata": {},
   "outputs": [],
   "source": []
  }
 ],
 "metadata": {
  "kernelspec": {
   "display_name": "Python 3 (ipykernel)",
   "language": "python",
   "name": "python3"
  },
  "language_info": {
   "codemirror_mode": {
    "name": "ipython",
    "version": 3
   },
   "file_extension": ".py",
   "mimetype": "text/x-python",
   "name": "python",
   "nbconvert_exporter": "python",
   "pygments_lexer": "ipython3",
   "version": "3.10.9"
  }
 },
 "nbformat": 4,
 "nbformat_minor": 5
}
